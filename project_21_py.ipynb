{
  "nbformat": 4,
  "nbformat_minor": 0,
  "metadata": {
    "colab": {
      "provenance": [],
      "authorship_tag": "ABX9TyP3Jl2hMb+cHVniMWrRfk6i",
      "include_colab_link": true
    },
    "kernelspec": {
      "name": "python3",
      "display_name": "Python 3"
    },
    "language_info": {
      "name": "python"
    }
  },
  "cells": [
    {
      "cell_type": "markdown",
      "metadata": {
        "id": "view-in-github",
        "colab_type": "text"
      },
      "source": [
        "<a href=\"https://colab.research.google.com/github/SAMARTH2751/CIPHER_SCHOOL/blob/main/project_21_py.ipynb\" target=\"_parent\"><img src=\"https://colab.research.google.com/assets/colab-badge.svg\" alt=\"Open In Colab\"/></a>"
      ]
    },
    {
      "cell_type": "code",
      "execution_count": 13,
      "metadata": {
        "colab": {
          "base_uri": "https://localhost:8080/"
        },
        "id": "Py7sKQeWtnpw",
        "outputId": "ba640126-57ad-46fd-d852-a66a24f352cc"
      },
      "outputs": [
        {
          "output_type": "stream",
          "name": "stdout",
          "text": [
            "Enter the angle of the Cake:60\n",
            "Enter N :5\n",
            "YES, Cake has been cut into equal pieces of size 5\n",
            "YES, Cake has been cut into 5 pieces of any size\n",
            "YES, Cake will cut into 5 pieces such that no two of them are equal\n"
          ]
        }
      ],
      "source": [
        "# Cake Cutting problem\n",
        "cake_angle = eval(input(\"Enter the angle of the Cake:\"))\n",
        "N = eval(input(\"Enter N :\")) # N is number pieces\n",
        "# Case:-1 Cut the cake into N equal pieces.\n",
        "if (cake_angle%N == 0):\n",
        "  print(\"YES, Cake has been cut into equal pieces of size %d\" %N)\n",
        "else:\n",
        "  print(\"NO, Cake will not cut in equal pieces of size %d\" %N)\n",
        "# Case:-2 Cut the cake into N pieces of any size\n",
        "if (N > cake_angle) : # Only when N is greater then cake angle then cake can't cut into pieces of any size\n",
        "  print(\"NO, Cake will not cut in any piece of size %d\" %N)\n",
        "else:\n",
        "  print(\"YES, Cake has been cut into %d pieces of any size\" %N)\n",
        "#case:-3 Cut the cake into N pieces such that no 2 of them are equal\n",
        "n = 1\n",
        "for i in range(N) :\n",
        "  cake_angle = n\n",
        "  n = n+1\n",
        "  if (cake_angle < 0):\n",
        "    print(\"NO, cake will not cut into %d pieces such that no two of them are equal\" %N)\n",
        "  else:\n",
        "    print(\"YES, Cake will cut into %d pieces such that no two of them are equal\" %N)\n",
        "    break"
      ]
    },
    {
      "cell_type": "code",
      "source": [
        "from google.colab import drive\n",
        "drive.mount('/content/drive')"
      ],
      "metadata": {
        "id": "knsR9Z431Z67"
      },
      "execution_count": null,
      "outputs": []
    }
  ]
}